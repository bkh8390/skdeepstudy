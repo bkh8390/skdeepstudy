{
 "cells": [
  {
   "cell_type": "code",
   "execution_count": 106,
   "metadata": {},
   "outputs": [
    {
     "name": "stdout",
     "output_type": "stream",
     "text": [
      "(2000, 784)\n"
     ]
    }
   ],
   "source": [
    "import csv\n",
    "import random\n",
    "import math\n",
    "import operator\n",
    "import numpy as np\n",
    "from numpy import array\n",
    "import os\n",
    "import cv2\n",
    "import matplotlib.pyplot as plt\n",
    "import tkinter as tk\n",
    "from tkinter import filedialog\n",
    " \n",
    "def euclideanDistance(instance1, instance2): #유클리드 거리 계산\n",
    "  distance = 0.0\n",
    "  diff = instance1 - instance2\n",
    "  diffpow = pow(diff,2)\n",
    "  distance = diffpow.sum()\n",
    "  return math.sqrt(distance)\n",
    " \n",
    "def getNeighbors(trainingSet, testInstance, dataset_category, k):\n",
    "  distances = []\n",
    "  \n",
    "  for x in range(len(trainingSet)):\n",
    "    dist = euclideanDistance(testInstance[x], trainingSet[x]) #testinstance와 거리를 계산\n",
    "    distances.append((dataset_category[x], dist)) #각 trainingSet간의 거리를 리스트에 저장\n",
    "    #print(dist)\n",
    "  distances.sort(key=operator.itemgetter(1)) #거리를 기준으로 소팅\n",
    "  neighbors = []\n",
    "  \n",
    "  for x in range(k): #k번쨰까지\n",
    "    neighbors.append(distances[x][0]) #데이터만을 neighbors 리스트에 추가\n",
    "  return neighbors\n",
    "\n",
    "\n",
    "def getResponse(neighbors):\n",
    "  classVotes = {}\n",
    "  for x in range(len(neighbors)):\n",
    "    response = neighbors[x] #클래스 정보\n",
    "    if response in classVotes: #dict에 있으면 1추가\n",
    "      classVotes[response] += 1\n",
    "    else: #없으면 1로 초기화\n",
    "      classVotes[response] = 1\n",
    "  sortedVotes = sorted(classVotes.items(), key=operator.itemgetter(1), reverse=True) #가장 많은 투표를 받은 클래스 순으로 정렬\n",
    "  return sortedVotes[0][0] #가장 많은 투표를 받은 클래스를 리턴\n",
    "\n",
    "def getAccuray(trainingSet, testSet, training_category, test_category, k):\n",
    "    accuracy = 0.0\n",
    "    correct  = 0\n",
    "    \n",
    "    for x in range(len(testSet)):\n",
    "        neighbors = []\n",
    "        testInstance = np.tile(testSet[x], (len(trainingSet), 1))   # 분류대상\n",
    "        testInstance = np.array(testInstance, dtype='float')\n",
    "        neighbors = getNeighbors(trainingSet, testInstance, training_category, k)\n",
    "        \n",
    "        prediction = getResponse(neighbors)\n",
    "        if prediction == test_category[x]:\n",
    "            correct += 1\n",
    "    return (correct/len(testSet)) * 100.0\n",
    "\n",
    "\n",
    "TRAIN_DIR = 'C:/Users/BKH/MNIST/trainingSet/'\n",
    "train_folder_list = array(os.listdir(TRAIN_DIR))\n",
    "  \n",
    "train_input = []\n",
    "train_label = []\n",
    "cnt = 0\n",
    "for index in range(len(train_folder_list)):\n",
    "    path = os.path.join(TRAIN_DIR, train_folder_list[index])\n",
    "    path = path + '/'\n",
    "    img_list = os.listdir(path)\n",
    "    \n",
    "    for img in img_list:\n",
    "        if cnt >= 200 :\n",
    "            cnt = 0\n",
    "            break\n",
    "        \n",
    "        img_path = os.path.join(path, img)\n",
    "        img = cv2.imread(img_path, cv2.IMREAD_GRAYSCALE)\n",
    "        train_input.append(img)\n",
    "        train_label.append(index)\n",
    "        cnt = cnt + 1\n",
    "        \n",
    "        \n",
    "dataset_train = np.array(train_input, dtype='float')\n",
    "dataset_train = np.reshape(train_input, (-1, 784))\n",
    "dataset_train_category = np.array(train_label, dtype='float') \n",
    "print(dataset_train.shape)\n",
    "\n",
    "TEST_DIR  = 'C:/Users/BKH/MNIST/testSet/'\n",
    "test_folder_list = array(os.listdir(TEST_DIR))\n",
    "  \n",
    "test_input = []\n",
    "test_label = []\n",
    "cnt = 0\n",
    "for index in range(len(test_folder_list)):\n",
    "    path = os.path.join(TEST_DIR, test_folder_list[index])\n",
    "    path = path + '/'\n",
    "    \n",
    "    img_list = os.listdir(path)\n",
    "    for img in img_list:\n",
    "        img_path = os.path.join(path, img)\n",
    "        img = cv2.imread(img_path, cv2.IMREAD_GRAYSCALE)\n",
    "        #img = cv2.imread(img_path, cv2.IMREAD_GRAYSCALE)\n",
    "        test_input.append(img)\n",
    "        test_label.append(index)\n",
    "        cnt = cnt + 1\n",
    "        \n",
    "dataset_test = np.array(test_input, dtype='float')\n",
    "dataset_test = np.reshape(test_input, (-1, 784))\n",
    "dataset_test_category = np.array(test_label, dtype='float') "
   ]
  },
  {
   "cell_type": "code",
   "execution_count": 108,
   "metadata": {
    "scrolled": true
   },
   "outputs": [
    {
     "name": "stdout",
     "output_type": "stream",
     "text": [
      "k값 입력(1~3):3\n",
      "k=3, accuracy=92.50%\n",
      "i think tha digit is : 0.0\n"
     ]
    },
    {
     "data": {
      "image/png": "[encoded data removed]",
      "text/plain": [
       "<Figure size 432x288 with 1 Axes>"
      ]
     },
     "metadata": {
      "needs_background": "light"
     },
     "output_type": "display_data"
    }
   ],
   "source": [
    "k = int(input('k값 입력(1~3):'))\n",
    "\n",
    "accuracy = getAccuray(dataset_train, dataset_test, dataset_train_category, dataset_test_category, k)\n",
    "print(\"k=%d, accuracy=%.2f%%\" % (k, accuracy))\n",
    "\n",
    "\n",
    "root = tk.Tk()\n",
    "root.withdraw()\n",
    "\n",
    "filename = filedialog.askopenfilename()\n",
    "target = cv2.imread(filename, cv2.IMREAD_GRAYSCALE)\n",
    "target = np.array(target, dtype='float')\n",
    "target = np.reshape(target, (-1, 784))\n",
    "dataset_target = np.tile(target, (len(dataset_train), 1))   # 분류대상\n",
    "neighbors = getNeighbors(dataset_train, dataset_target, dataset_train_category,k)\n",
    "\n",
    "prediction = getResponse(neighbors)\n",
    "print(\"i think tha digit is : {}\".format(prediction))\n",
    "\n",
    "imgdata = np.array(target, dtype='float')\n",
    "pixels = imgdata.reshape((28,28))\n",
    "plt.imshow(pixels,cmap='gray')\n",
    "plt.show()\n"
   ]
  }
 ],
 "metadata": {
  "kernelspec": {
   "display_name": "Python 3",
   "language": "python",
   "name": "python3"
  },
  "language_info": {
   "codemirror_mode": {
    "name": "ipython",
    "version": 3
   },
   "file_extension": ".py",
   "mimetype": "text/x-python",
   "name": "python",
   "nbconvert_exporter": "python",
   "pygments_lexer": "ipython3",
   "version": "3.7.3"
  }
 },
 "nbformat": 4,
 "nbformat_minor": 2
}
